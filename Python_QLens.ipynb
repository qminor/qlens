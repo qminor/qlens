{
 "cells": [
  {
   "cell_type": "markdown",
   "metadata": {},
   "source": [
    "### Pre-requisites\n",
    "Before running this notebook, you must first have the binary in the same path. To obtain the binary, you can either download the latest or compile it from source. \n",
    "\n",
    "##### Compiling from source (Recommended)\n",
    "Once you've cloned the repo, compile using `make`. **Python3** is required. When finished, move the binary to same directory as this notebook."
   ]
  },
  {
   "cell_type": "code",
   "execution_count": null,
   "metadata": {},
   "outputs": [],
   "source": [
    "from qlens import *"
   ]
  },
  {
   "cell_type": "markdown",
   "metadata": {},
   "source": [
    "The following are required to allow Jupyter to stream outputs from the terminal."
   ]
  },
  {
   "cell_type": "code",
   "execution_count": null,
   "metadata": {},
   "outputs": [],
   "source": [
    "# !pip install wurlitzer\n",
    "# import wurlitzer\n",
    "# %load_ext wurlitzer"
   ]
  },
  {
   "cell_type": "markdown",
   "metadata": {},
   "source": [
    "### Initializing\n",
    "There are 2 ways to initialize objects in the lenses. The first is to create empty objects then use `initialize` to update specific values"
   ]
  },
  {
   "cell_type": "code",
   "execution_count": null,
   "metadata": {},
   "outputs": [],
   "source": [
    "L = QLens()\n",
    "A = Alpha()\n",
    "\n",
    "A.initialize({\n",
    "    \"b\": 4.5,\n",
    "    \"alpha\": 1,\n",
    "    \"s\": 0,\n",
    "    \"q\": 0.8,\n",
    "    \"theta\": 30,\n",
    "    \"xc\": 0.7,\n",
    "    \"yc\": 0.3\n",
    "})"
   ]
  },
  {
   "cell_type": "markdown",
   "metadata": {},
   "source": [
    "Or you can pass in all the values when creating. It's up to you which to choose"
   ]
  },
  {
   "cell_type": "code",
   "execution_count": null,
   "metadata": {},
   "outputs": [],
   "source": [
    "S = Shear({\n",
    "    \"shear\": 0.02,\n",
    "    \"theta\": 10,\n",
    "    \"xc\": 0,\n",
    "    \"yc\": 0\n",
    "})"
   ]
  },
  {
   "cell_type": "code",
   "execution_count": null,
   "metadata": {},
   "outputs": [],
   "source": [
    "L.imgdata_read(\"alphafit.dat\")"
   ]
  },
  {
   "cell_type": "markdown",
   "metadata": {},
   "source": [
    "Here we initialize an `ImageSet` object to extract some data points from QLens:"
   ]
  },
  {
   "cell_type": "code",
   "execution_count": null,
   "metadata": {},
   "outputs": [],
   "source": [
    "I = ImageSet()"
   ]
  },
  {
   "cell_type": "markdown",
   "metadata": {},
   "source": [
    "We can set some vary flags on specific lenses themselves."
   ]
  },
  {
   "cell_type": "code",
   "execution_count": null,
   "metadata": {},
   "outputs": [],
   "source": [
    "A.set_vary_flags([1,0,0,1,1,1,1])\n",
    "\n",
    "S.set_vary_flags([1,1,0,0])"
   ]
  },
  {
   "cell_type": "markdown",
   "metadata": {},
   "source": [
    "### Adding Lenses\n",
    "The `add_lenses` function requires an array of lenses or an array of tuple."
   ]
  },
  {
   "cell_type": "code",
   "execution_count": null,
   "metadata": {},
   "outputs": [],
   "source": [
    "L.add_lenses([A, S])"
   ]
  },
  {
   "cell_type": "markdown",
   "metadata": {},
   "source": [
    "When passing in an array of lenses, default values are chosen for `zl` and `zs` for each of the lenses. So the above is equivalent of:"
   ]
  },
  {
   "cell_type": "code",
   "execution_count": null,
   "metadata": {},
   "outputs": [],
   "source": [
    "L.add_lenses([(A, 0.5, 1), (S, 0.5, 1)])"
   ]
  },
  {
   "cell_type": "markdown",
   "metadata": {},
   "source": [
    "### Running fit\n",
    "Once the lenses have been added, we can use the `run_fit` command. First we do some enable some options. "
   ]
  },
  {
   "cell_type": "code",
   "execution_count": null,
   "metadata": {},
   "outputs": [],
   "source": [
    "L.include_flux_chisq(True)\n",
    "L.use_image_plane_chisq(True)"
   ]
  },
  {
   "cell_type": "markdown",
   "metadata": {},
   "source": [
    "We can choose from simplex, powell or twalk. For this example, we're using simplex"
   ]
  },
  {
   "cell_type": "code",
   "execution_count": null,
   "metadata": {},
   "outputs": [],
   "source": [
    "L.run_fit(\"simplex\")"
   ]
  },
  {
   "cell_type": "markdown",
   "metadata": {},
   "source": [
    "We can choose from simplex, powell or twalk. For this example, we're using simplex"
   ]
  },
  {
   "cell_type": "markdown",
   "metadata": {},
   "source": [
    "### Extracting some data"
   ]
  },
  {
   "cell_type": "code",
   "execution_count": null,
   "metadata": {},
   "outputs": [],
   "source": [
    "L.get_imageset(I, 0.5, 0.1, False)"
   ]
  },
  {
   "cell_type": "markdown",
   "metadata": {},
   "source": [
    "We can then print some data"
   ]
  },
  {
   "cell_type": "code",
   "execution_count": null,
   "metadata": {},
   "outputs": [],
   "source": [
    "print(\"\\n\\nNumber of images: \", I.n_images)"
   ]
  },
  {
   "cell_type": "code",
   "execution_count": null,
   "metadata": {},
   "outputs": [],
   "source": [
    "print(\"src_x: \\t\\t\\tsrc_y: \\t\\t\\tmag:\")\n",
    "for i in I.images:\n",
    "    print(\"{}\\t{}\\t{}\".format(i.pos.src()[0], i.pos.src()[1], i.mag))"
   ]
  },
  {
   "cell_type": "code",
   "execution_count": null,
   "metadata": {},
   "outputs": [],
   "source": []
  }
 ],
 "metadata": {
  "kernelspec": {
   "display_name": "Python 3",
   "language": "python",
   "name": "python3"
  },
  "language_info": {
   "codemirror_mode": {
    "name": "ipython",
    "version": 3
   },
   "file_extension": ".py",
   "mimetype": "text/x-python",
   "name": "python",
   "nbconvert_exporter": "python",
   "pygments_lexer": "ipython3",
   "version": "3.6.9"
  }
 },
 "nbformat": 4,
 "nbformat_minor": 4
}
